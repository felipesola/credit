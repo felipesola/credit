{
 "cells": [
  {
   "cell_type": "markdown",
   "id": "abe8ec1c",
   "metadata": {},
   "source": [
    "# Importing Libraries\n",
    "\n",
    "Importing the libraries that will be used in the procedures below"
   ]
  },
  {
   "cell_type": "code",
   "execution_count": 1,
   "id": "ab724e41",
   "metadata": {},
   "outputs": [],
   "source": [
    "import pandas as pd\n",
    "import numpy as np\n",
    "from sklearn.model_selection import train_test_split\n",
    "from sklearn.pipeline import Pipeline\n",
    "from sklearn.impute import SimpleImputer\n",
    "from sklearn.preprocessing import StandardScaler\n",
    "from sklearn.preprocessing import OneHotEncoder\n",
    "from sklearn.compose import ColumnTransformer\n",
    "from sklearn.tree import DecisionTreeClassifier\n",
    "from sklearn import tree\n",
    "from sklearn.model_selection import cross_val_score\n",
    "\n",
    "import mlflow\n",
    "import mlflow.sklearn\n",
    "\n",
    "from sklearn.metrics import accuracy_score, \\\n",
    "                            recall_score, \\\n",
    "                            f1_score, \\\n",
    "                            precision_score, \\\n",
    "                            confusion_matrix, \\\n",
    "                            RocCurveDisplay, \\\n",
    "                            PrecisionRecallDisplay, \\\n",
    "                            ConfusionMatrixDisplay"
   ]
  },
  {
   "cell_type": "markdown",
   "id": "413751c7",
   "metadata": {},
   "source": [
    "# Importing Dataset\n",
    "\n",
    "Using pandas read_csv function to load the dataset used in this work"
   ]
  },
  {
   "cell_type": "code",
   "execution_count": 2,
   "id": "15e23070",
   "metadata": {
    "scrolled": true
   },
   "outputs": [
    {
     "data": {
      "text/html": [
       "<div>\n",
       "<style scoped>\n",
       "    .dataframe tbody tr th:only-of-type {\n",
       "        vertical-align: middle;\n",
       "    }\n",
       "\n",
       "    .dataframe tbody tr th {\n",
       "        vertical-align: top;\n",
       "    }\n",
       "\n",
       "    .dataframe thead th {\n",
       "        text-align: right;\n",
       "    }\n",
       "</style>\n",
       "<table border=\"1\" class=\"dataframe\">\n",
       "  <thead>\n",
       "    <tr style=\"text-align: right;\">\n",
       "      <th></th>\n",
       "      <th>checking_status</th>\n",
       "      <th>duration</th>\n",
       "      <th>credit_history</th>\n",
       "      <th>purpose</th>\n",
       "      <th>credit_amount</th>\n",
       "      <th>savings_status</th>\n",
       "      <th>employment</th>\n",
       "      <th>installment_commitment</th>\n",
       "      <th>personal_status</th>\n",
       "      <th>other_parties</th>\n",
       "      <th>...</th>\n",
       "      <th>property_magnitude</th>\n",
       "      <th>age</th>\n",
       "      <th>other_payment_plans</th>\n",
       "      <th>housing</th>\n",
       "      <th>existing_credits</th>\n",
       "      <th>job</th>\n",
       "      <th>num_dependents</th>\n",
       "      <th>own_telephone</th>\n",
       "      <th>foreign_worker</th>\n",
       "      <th>class</th>\n",
       "    </tr>\n",
       "  </thead>\n",
       "  <tbody>\n",
       "    <tr>\n",
       "      <th>0</th>\n",
       "      <td>&lt;0</td>\n",
       "      <td>6</td>\n",
       "      <td>'critical/other existing credit'</td>\n",
       "      <td>radio/tv</td>\n",
       "      <td>1169</td>\n",
       "      <td>'no known savings'</td>\n",
       "      <td>&gt;=7</td>\n",
       "      <td>4</td>\n",
       "      <td>'male single'</td>\n",
       "      <td>none</td>\n",
       "      <td>...</td>\n",
       "      <td>'real estate'</td>\n",
       "      <td>67</td>\n",
       "      <td>none</td>\n",
       "      <td>own</td>\n",
       "      <td>2</td>\n",
       "      <td>skilled</td>\n",
       "      <td>1</td>\n",
       "      <td>yes</td>\n",
       "      <td>yes</td>\n",
       "      <td>good</td>\n",
       "    </tr>\n",
       "    <tr>\n",
       "      <th>1</th>\n",
       "      <td>0&lt;=X&lt;200</td>\n",
       "      <td>48</td>\n",
       "      <td>'existing paid'</td>\n",
       "      <td>radio/tv</td>\n",
       "      <td>5951</td>\n",
       "      <td>&lt;100</td>\n",
       "      <td>1&lt;=X&lt;4</td>\n",
       "      <td>2</td>\n",
       "      <td>'female div/dep/mar'</td>\n",
       "      <td>none</td>\n",
       "      <td>...</td>\n",
       "      <td>'real estate'</td>\n",
       "      <td>22</td>\n",
       "      <td>none</td>\n",
       "      <td>own</td>\n",
       "      <td>1</td>\n",
       "      <td>skilled</td>\n",
       "      <td>1</td>\n",
       "      <td>none</td>\n",
       "      <td>yes</td>\n",
       "      <td>bad</td>\n",
       "    </tr>\n",
       "    <tr>\n",
       "      <th>2</th>\n",
       "      <td>'no checking'</td>\n",
       "      <td>12</td>\n",
       "      <td>'critical/other existing credit'</td>\n",
       "      <td>education</td>\n",
       "      <td>2096</td>\n",
       "      <td>&lt;100</td>\n",
       "      <td>4&lt;=X&lt;7</td>\n",
       "      <td>2</td>\n",
       "      <td>'male single'</td>\n",
       "      <td>none</td>\n",
       "      <td>...</td>\n",
       "      <td>'real estate'</td>\n",
       "      <td>49</td>\n",
       "      <td>none</td>\n",
       "      <td>own</td>\n",
       "      <td>1</td>\n",
       "      <td>'unskilled resident'</td>\n",
       "      <td>2</td>\n",
       "      <td>none</td>\n",
       "      <td>yes</td>\n",
       "      <td>good</td>\n",
       "    </tr>\n",
       "    <tr>\n",
       "      <th>3</th>\n",
       "      <td>&lt;0</td>\n",
       "      <td>42</td>\n",
       "      <td>'existing paid'</td>\n",
       "      <td>furniture/equipment</td>\n",
       "      <td>7882</td>\n",
       "      <td>&lt;100</td>\n",
       "      <td>4&lt;=X&lt;7</td>\n",
       "      <td>2</td>\n",
       "      <td>'male single'</td>\n",
       "      <td>guarantor</td>\n",
       "      <td>...</td>\n",
       "      <td>'life insurance'</td>\n",
       "      <td>45</td>\n",
       "      <td>none</td>\n",
       "      <td>'for free'</td>\n",
       "      <td>1</td>\n",
       "      <td>skilled</td>\n",
       "      <td>2</td>\n",
       "      <td>none</td>\n",
       "      <td>yes</td>\n",
       "      <td>good</td>\n",
       "    </tr>\n",
       "    <tr>\n",
       "      <th>4</th>\n",
       "      <td>&lt;0</td>\n",
       "      <td>24</td>\n",
       "      <td>'delayed previously'</td>\n",
       "      <td>'new car'</td>\n",
       "      <td>4870</td>\n",
       "      <td>&lt;100</td>\n",
       "      <td>1&lt;=X&lt;4</td>\n",
       "      <td>3</td>\n",
       "      <td>'male single'</td>\n",
       "      <td>none</td>\n",
       "      <td>...</td>\n",
       "      <td>'no known property'</td>\n",
       "      <td>53</td>\n",
       "      <td>none</td>\n",
       "      <td>'for free'</td>\n",
       "      <td>2</td>\n",
       "      <td>skilled</td>\n",
       "      <td>2</td>\n",
       "      <td>none</td>\n",
       "      <td>yes</td>\n",
       "      <td>bad</td>\n",
       "    </tr>\n",
       "    <tr>\n",
       "      <th>5</th>\n",
       "      <td>'no checking'</td>\n",
       "      <td>36</td>\n",
       "      <td>'existing paid'</td>\n",
       "      <td>education</td>\n",
       "      <td>9055</td>\n",
       "      <td>'no known savings'</td>\n",
       "      <td>1&lt;=X&lt;4</td>\n",
       "      <td>2</td>\n",
       "      <td>'male single'</td>\n",
       "      <td>none</td>\n",
       "      <td>...</td>\n",
       "      <td>'no known property'</td>\n",
       "      <td>35</td>\n",
       "      <td>none</td>\n",
       "      <td>'for free'</td>\n",
       "      <td>1</td>\n",
       "      <td>'unskilled resident'</td>\n",
       "      <td>2</td>\n",
       "      <td>yes</td>\n",
       "      <td>yes</td>\n",
       "      <td>good</td>\n",
       "    </tr>\n",
       "    <tr>\n",
       "      <th>6</th>\n",
       "      <td>'no checking'</td>\n",
       "      <td>24</td>\n",
       "      <td>'existing paid'</td>\n",
       "      <td>furniture/equipment</td>\n",
       "      <td>2835</td>\n",
       "      <td>500&lt;=X&lt;1000</td>\n",
       "      <td>&gt;=7</td>\n",
       "      <td>3</td>\n",
       "      <td>'male single'</td>\n",
       "      <td>none</td>\n",
       "      <td>...</td>\n",
       "      <td>'life insurance'</td>\n",
       "      <td>53</td>\n",
       "      <td>none</td>\n",
       "      <td>own</td>\n",
       "      <td>1</td>\n",
       "      <td>skilled</td>\n",
       "      <td>1</td>\n",
       "      <td>none</td>\n",
       "      <td>yes</td>\n",
       "      <td>good</td>\n",
       "    </tr>\n",
       "    <tr>\n",
       "      <th>7</th>\n",
       "      <td>0&lt;=X&lt;200</td>\n",
       "      <td>36</td>\n",
       "      <td>'existing paid'</td>\n",
       "      <td>'used car'</td>\n",
       "      <td>6948</td>\n",
       "      <td>&lt;100</td>\n",
       "      <td>1&lt;=X&lt;4</td>\n",
       "      <td>2</td>\n",
       "      <td>'male single'</td>\n",
       "      <td>none</td>\n",
       "      <td>...</td>\n",
       "      <td>car</td>\n",
       "      <td>35</td>\n",
       "      <td>none</td>\n",
       "      <td>rent</td>\n",
       "      <td>1</td>\n",
       "      <td>'high qualif/self emp/mgmt'</td>\n",
       "      <td>1</td>\n",
       "      <td>yes</td>\n",
       "      <td>yes</td>\n",
       "      <td>good</td>\n",
       "    </tr>\n",
       "    <tr>\n",
       "      <th>8</th>\n",
       "      <td>'no checking'</td>\n",
       "      <td>12</td>\n",
       "      <td>'existing paid'</td>\n",
       "      <td>radio/tv</td>\n",
       "      <td>3059</td>\n",
       "      <td>&gt;=1000</td>\n",
       "      <td>4&lt;=X&lt;7</td>\n",
       "      <td>2</td>\n",
       "      <td>'male div/sep'</td>\n",
       "      <td>none</td>\n",
       "      <td>...</td>\n",
       "      <td>'real estate'</td>\n",
       "      <td>61</td>\n",
       "      <td>none</td>\n",
       "      <td>own</td>\n",
       "      <td>1</td>\n",
       "      <td>'unskilled resident'</td>\n",
       "      <td>1</td>\n",
       "      <td>none</td>\n",
       "      <td>yes</td>\n",
       "      <td>good</td>\n",
       "    </tr>\n",
       "    <tr>\n",
       "      <th>9</th>\n",
       "      <td>0&lt;=X&lt;200</td>\n",
       "      <td>30</td>\n",
       "      <td>'critical/other existing credit'</td>\n",
       "      <td>'new car'</td>\n",
       "      <td>5234</td>\n",
       "      <td>&lt;100</td>\n",
       "      <td>unemployed</td>\n",
       "      <td>4</td>\n",
       "      <td>'male mar/wid'</td>\n",
       "      <td>none</td>\n",
       "      <td>...</td>\n",
       "      <td>car</td>\n",
       "      <td>28</td>\n",
       "      <td>none</td>\n",
       "      <td>own</td>\n",
       "      <td>2</td>\n",
       "      <td>'high qualif/self emp/mgmt'</td>\n",
       "      <td>1</td>\n",
       "      <td>none</td>\n",
       "      <td>yes</td>\n",
       "      <td>bad</td>\n",
       "    </tr>\n",
       "  </tbody>\n",
       "</table>\n",
       "<p>10 rows × 21 columns</p>\n",
       "</div>"
      ],
      "text/plain": [
       "  checking_status  duration                    credit_history  \\\n",
       "0              <0         6  'critical/other existing credit'   \n",
       "1        0<=X<200        48                   'existing paid'   \n",
       "2   'no checking'        12  'critical/other existing credit'   \n",
       "3              <0        42                   'existing paid'   \n",
       "4              <0        24              'delayed previously'   \n",
       "5   'no checking'        36                   'existing paid'   \n",
       "6   'no checking'        24                   'existing paid'   \n",
       "7        0<=X<200        36                   'existing paid'   \n",
       "8   'no checking'        12                   'existing paid'   \n",
       "9        0<=X<200        30  'critical/other existing credit'   \n",
       "\n",
       "               purpose  credit_amount      savings_status  employment  \\\n",
       "0             radio/tv           1169  'no known savings'         >=7   \n",
       "1             radio/tv           5951                <100      1<=X<4   \n",
       "2            education           2096                <100      4<=X<7   \n",
       "3  furniture/equipment           7882                <100      4<=X<7   \n",
       "4            'new car'           4870                <100      1<=X<4   \n",
       "5            education           9055  'no known savings'      1<=X<4   \n",
       "6  furniture/equipment           2835         500<=X<1000         >=7   \n",
       "7           'used car'           6948                <100      1<=X<4   \n",
       "8             radio/tv           3059              >=1000      4<=X<7   \n",
       "9            'new car'           5234                <100  unemployed   \n",
       "\n",
       "   installment_commitment       personal_status other_parties  ...  \\\n",
       "0                       4         'male single'          none  ...   \n",
       "1                       2  'female div/dep/mar'          none  ...   \n",
       "2                       2         'male single'          none  ...   \n",
       "3                       2         'male single'     guarantor  ...   \n",
       "4                       3         'male single'          none  ...   \n",
       "5                       2         'male single'          none  ...   \n",
       "6                       3         'male single'          none  ...   \n",
       "7                       2         'male single'          none  ...   \n",
       "8                       2        'male div/sep'          none  ...   \n",
       "9                       4        'male mar/wid'          none  ...   \n",
       "\n",
       "    property_magnitude age  other_payment_plans     housing existing_credits  \\\n",
       "0        'real estate'  67                 none         own                2   \n",
       "1        'real estate'  22                 none         own                1   \n",
       "2        'real estate'  49                 none         own                1   \n",
       "3     'life insurance'  45                 none  'for free'                1   \n",
       "4  'no known property'  53                 none  'for free'                2   \n",
       "5  'no known property'  35                 none  'for free'                1   \n",
       "6     'life insurance'  53                 none         own                1   \n",
       "7                  car  35                 none        rent                1   \n",
       "8        'real estate'  61                 none         own                1   \n",
       "9                  car  28                 none         own                2   \n",
       "\n",
       "                           job num_dependents  own_telephone foreign_worker  \\\n",
       "0                      skilled              1            yes            yes   \n",
       "1                      skilled              1           none            yes   \n",
       "2         'unskilled resident'              2           none            yes   \n",
       "3                      skilled              2           none            yes   \n",
       "4                      skilled              2           none            yes   \n",
       "5         'unskilled resident'              2            yes            yes   \n",
       "6                      skilled              1           none            yes   \n",
       "7  'high qualif/self emp/mgmt'              1            yes            yes   \n",
       "8         'unskilled resident'              1           none            yes   \n",
       "9  'high qualif/self emp/mgmt'              1           none            yes   \n",
       "\n",
       "  class  \n",
       "0  good  \n",
       "1   bad  \n",
       "2  good  \n",
       "3  good  \n",
       "4   bad  \n",
       "5  good  \n",
       "6  good  \n",
       "7  good  \n",
       "8  good  \n",
       "9   bad  \n",
       "\n",
       "[10 rows x 21 columns]"
      ]
     },
     "execution_count": 2,
     "metadata": {},
     "output_type": "execute_result"
    }
   ],
   "source": [
    "df = pd.read_csv('Credit.csv')\n",
    "df.head(10)"
   ]
  },
  {
   "cell_type": "markdown",
   "id": "b5c31f14",
   "metadata": {},
   "source": [
    "# Using info and is null function\n",
    "\n",
    "In order to discover  number of entries, datatype, columns quantity and columns with no data"
   ]
  },
  {
   "cell_type": "code",
   "execution_count": 3,
   "id": "be878adc",
   "metadata": {},
   "outputs": [
    {
     "name": "stdout",
     "output_type": "stream",
     "text": [
      "<class 'pandas.core.frame.DataFrame'>\n",
      "RangeIndex: 1000 entries, 0 to 999\n",
      "Data columns (total 21 columns):\n",
      " #   Column                  Non-Null Count  Dtype \n",
      "---  ------                  --------------  ----- \n",
      " 0   checking_status         1000 non-null   object\n",
      " 1   duration                1000 non-null   int64 \n",
      " 2   credit_history          1000 non-null   object\n",
      " 3   purpose                 1000 non-null   object\n",
      " 4   credit_amount           1000 non-null   int64 \n",
      " 5   savings_status          1000 non-null   object\n",
      " 6   employment              1000 non-null   object\n",
      " 7   installment_commitment  1000 non-null   int64 \n",
      " 8   personal_status         1000 non-null   object\n",
      " 9   other_parties           1000 non-null   object\n",
      " 10  residence_since         1000 non-null   int64 \n",
      " 11  property_magnitude      1000 non-null   object\n",
      " 12  age                     1000 non-null   int64 \n",
      " 13  other_payment_plans     1000 non-null   object\n",
      " 14  housing                 1000 non-null   object\n",
      " 15  existing_credits        1000 non-null   int64 \n",
      " 16  job                     1000 non-null   object\n",
      " 17  num_dependents          1000 non-null   int64 \n",
      " 18  own_telephone           1000 non-null   object\n",
      " 19  foreign_worker          1000 non-null   object\n",
      " 20  class                   1000 non-null   object\n",
      "dtypes: int64(7), object(14)\n",
      "memory usage: 164.2+ KB\n"
     ]
    }
   ],
   "source": [
    "df.info()"
   ]
  },
  {
   "cell_type": "code",
   "execution_count": 4,
   "id": "0c9131d2",
   "metadata": {
    "scrolled": true
   },
   "outputs": [
    {
     "data": {
      "text/plain": [
       "checking_status           0\n",
       "duration                  0\n",
       "credit_history            0\n",
       "purpose                   0\n",
       "credit_amount             0\n",
       "savings_status            0\n",
       "employment                0\n",
       "installment_commitment    0\n",
       "personal_status           0\n",
       "other_parties             0\n",
       "residence_since           0\n",
       "property_magnitude        0\n",
       "age                       0\n",
       "other_payment_plans       0\n",
       "housing                   0\n",
       "existing_credits          0\n",
       "job                       0\n",
       "num_dependents            0\n",
       "own_telephone             0\n",
       "foreign_worker            0\n",
       "class                     0\n",
       "dtype: int64"
      ]
     },
     "execution_count": 4,
     "metadata": {},
     "output_type": "execute_result"
    }
   ],
   "source": [
    "df.isnull().sum()"
   ]
  },
  {
   "cell_type": "markdown",
   "id": "dc127838",
   "metadata": {},
   "source": [
    "# Unique Values\n",
    "\n",
    "Check the unique values in order to see if there is any \"High Cardinality\" in the columns"
   ]
  },
  {
   "cell_type": "code",
   "execution_count": 5,
   "id": "1599c7f3",
   "metadata": {},
   "outputs": [
    {
     "data": {
      "text/plain": [
       "checking_status             4\n",
       "duration                   33\n",
       "credit_history              5\n",
       "purpose                    10\n",
       "credit_amount             921\n",
       "savings_status              5\n",
       "employment                  5\n",
       "installment_commitment      4\n",
       "personal_status             4\n",
       "other_parties               3\n",
       "residence_since             4\n",
       "property_magnitude          4\n",
       "age                        53\n",
       "other_payment_plans         3\n",
       "housing                     3\n",
       "existing_credits            4\n",
       "job                         4\n",
       "num_dependents              2\n",
       "own_telephone               2\n",
       "foreign_worker              2\n",
       "class                       2\n",
       "dtype: int64"
      ]
     },
     "execution_count": 5,
     "metadata": {},
     "output_type": "execute_result"
    }
   ],
   "source": [
    "df.nunique()"
   ]
  },
  {
   "cell_type": "markdown",
   "id": "9cb9dc64",
   "metadata": {},
   "source": [
    "The columns Date seems to have 'High Cardinality' and it will be checked"
   ]
  },
  {
   "cell_type": "markdown",
   "id": "223f6626",
   "metadata": {},
   "source": [
    "# Columns\n",
    "\n",
    "Dataset list of columns"
   ]
  },
  {
   "cell_type": "code",
   "execution_count": 6,
   "id": "6fb28e21",
   "metadata": {},
   "outputs": [
    {
     "data": {
      "text/plain": [
       "Index(['duration', 'credit_amount', 'installment_commitment',\n",
       "       'residence_since', 'age', 'existing_credits', 'num_dependents'],\n",
       "      dtype='object')"
      ]
     },
     "execution_count": 6,
     "metadata": {},
     "output_type": "execute_result"
    }
   ],
   "source": [
    "#Numerical columns\n",
    "\n",
    "numerical = df.select_dtypes(include=['int64']).columns\n",
    "numerical"
   ]
  },
  {
   "cell_type": "code",
   "execution_count": 7,
   "id": "479d95a7-6390-4eed-80a9-d535f07d7e2a",
   "metadata": {},
   "outputs": [
    {
     "data": {
      "text/plain": [
       "Index(['checking_status', 'credit_history', 'purpose', 'savings_status',\n",
       "       'employment', 'personal_status', 'other_parties', 'property_magnitude',\n",
       "       'other_payment_plans', 'housing', 'job', 'own_telephone',\n",
       "       'foreign_worker', 'class'],\n",
       "      dtype='object')"
      ]
     },
     "execution_count": 7,
     "metadata": {},
     "output_type": "execute_result"
    }
   ],
   "source": [
    "#Categorical columns\n",
    "\n",
    "categorical = df.select_dtypes(include=['object']).columns\n",
    "categorical"
   ]
  },
  {
   "cell_type": "markdown",
   "id": "9e19083f",
   "metadata": {},
   "source": [
    "# Defining variables X, y (independent and dependent)\n",
    "\n",
    "Creating the objects the will contain the inputs and targets"
   ]
  },
  {
   "cell_type": "code",
   "execution_count": 8,
   "id": "eb7442f8",
   "metadata": {},
   "outputs": [
    {
     "data": {
      "text/plain": [
       "Index(['checking_status', 'duration', 'credit_history', 'purpose',\n",
       "       'credit_amount', 'savings_status', 'employment',\n",
       "       'installment_commitment', 'personal_status', 'other_parties',\n",
       "       'residence_since', 'property_magnitude', 'age', 'other_payment_plans',\n",
       "       'housing', 'existing_credits', 'job', 'num_dependents', 'own_telephone',\n",
       "       'foreign_worker'],\n",
       "      dtype='object')"
      ]
     },
     "execution_count": 8,
     "metadata": {},
     "output_type": "execute_result"
    }
   ],
   "source": [
    "X = df.drop(['class'], axis=1)\n",
    "y = df['class']\n",
    "\n",
    "X.columns"
   ]
  },
  {
   "cell_type": "markdown",
   "id": "d279caf8",
   "metadata": {},
   "source": [
    "# Spliting the dataset in train and test"
   ]
  },
  {
   "cell_type": "code",
   "execution_count": 9,
   "id": "f29d705e",
   "metadata": {},
   "outputs": [],
   "source": [
    "X_train, X_test, y_train, y_test = train_test_split(X, y, test_size=0.3, random_state=42)"
   ]
  },
  {
   "cell_type": "markdown",
   "id": "975f21c4",
   "metadata": {},
   "source": [
    "# Pipeline: definition of columns and features used in the steps\n",
    "\n",
    "In both numerical and categorical data"
   ]
  },
  {
   "cell_type": "code",
   "execution_count": 10,
   "id": "91031d4e",
   "metadata": {},
   "outputs": [],
   "source": [
    "#Numerical Transfomation Pipelines\n",
    "\n",
    "#All columns = ['duration', 'credit_amount', 'installment_commitment', 'residence_since', 'age', 'existing_credits', 'num_dependents']\n",
    "num_features = ['duration', 'credit_amount', 'installment_commitment', 'residence_since', 'age', 'existing_credits', 'num_dependents']\n",
    "\n",
    "#Using method SimpleImputer to fill the empty numerical spaces with the medin\n",
    "num_transform = Pipeline(steps=[('imputer', SimpleImputer(strategy='median')), ('scaler', StandardScaler())])"
   ]
  },
  {
   "cell_type": "code",
   "execution_count": 11,
   "id": "3726cf0e",
   "metadata": {},
   "outputs": [],
   "source": [
    "#Categorical Transformation Pipelines\n",
    "cat_features = ['checking_status', 'credit_history', 'purpose', 'savings_status', 'employment', 'personal_status', 'other_parties', 'property_magnitude', 'other_payment_plans', 'housing', 'job', 'own_telephone', 'foreign_worker']\n",
    "\n",
    "#cat_features = \n",
    "cat_transform = Pipeline(steps=[('one-hot-encoder', OneHotEncoder(handle_unknown='ignore'))])"
   ]
  },
  {
   "cell_type": "markdown",
   "id": "6b0ae7d5",
   "metadata": {},
   "source": [
    "# Pipeline preprocessor\n",
    "\n",
    "Creating the object used in the model function"
   ]
  },
  {
   "cell_type": "code",
   "execution_count": 12,
   "id": "71991536",
   "metadata": {},
   "outputs": [],
   "source": [
    "#Componding the preprocessors\n",
    "preprocessor = ColumnTransformer(transformers=[('num', num_transform, num_features), ('cat', cat_transform, cat_features)], remainder='passthrough')"
   ]
  },
  {
   "cell_type": "markdown",
   "id": "f8eb9eb6",
   "metadata": {},
   "source": [
    "# Starting MLflow"
   ]
  },
  {
   "cell_type": "code",
   "execution_count": 13,
   "id": "8a981ef1",
   "metadata": {},
   "outputs": [
    {
     "data": {
      "text/plain": [
       "<Experiment: artifact_location='file:///C:/Users/felip/DSprojects/credit/mlruns/881414482809066118', creation_time=1719374589810, experiment_id='881414482809066118', last_update_time=1719374589810, lifecycle_stage='active', name='credit', tags={}>"
      ]
     },
     "execution_count": 13,
     "metadata": {},
     "output_type": "execute_result"
    }
   ],
   "source": [
    "#Setting the experiment\n",
    "mlflow.set_experiment('credit')    "
   ]
  },
  {
   "cell_type": "markdown",
   "id": "b5375276",
   "metadata": {},
   "source": [
    "# Creating the model\n",
    "\n",
    "Training and evaluating the model while input data on MLflow"
   ]
  },
  {
   "cell_type": "code",
   "execution_count": 14,
   "id": "cef049a6",
   "metadata": {},
   "outputs": [
    {
     "data": {
      "image/png": "[encoded data removed]",
      "text/plain": [
       "<Figure size 640x480 with 2 Axes>"
      ]
     },
     "metadata": {},
     "output_type": "display_data"
    },
    {
     "data": {
      "image/png": "[encoded data removed]",
      "text/plain": [
       "<Figure size 640x480 with 1 Axes>"
      ]
     },
     "metadata": {},
     "output_type": "display_data"
    },
    {
     "data": {
      "image/png": "[encoded data removed]",
      "text/plain": [
       "<Figure size 640x480 with 1 Axes>"
      ]
     },
     "metadata": {},
     "output_type": "display_data"
    }
   ],
   "source": [
    "#Model parameters\n",
    "max_depth = 7\n",
    "random_state = 42\n",
    "min_sample_split = 100\n",
    "min_sample_leaf = 100\n",
    "criterion = 'gini'\n",
    "\n",
    "with mlflow.start_run():\n",
    "    \n",
    "    #Model\n",
    "    model_pipe = Pipeline(steps=[('preprocessor', preprocessor), \\\n",
    "                             ('tree', DecisionTreeClassifier(max_depth=max_depth, \\\n",
    "                                                        random_state=random_state, \\\n",
    "                                                        min_samples_split=min_sample_split, \\\n",
    "                                                        min_samples_leaf=min_sample_leaf, \\\n",
    "                                                        criterion=criterion\n",
    "                                                       ))])\n",
    "    #Creating parameters for MLflow\n",
    "    mlflow.log_param('max_depth', max_depth)\n",
    "    mlflow.log_param('random_state', random_state)\n",
    "    mlflow.log_param('min_sample_split', min_sample_split)\n",
    "    mlflow.log_param('min_sample_leaf', min_sample_leaf)\n",
    "    mlflow.log_param('criterion', criterion)\n",
    "    mlflow.log_param('num_features', num_features)\n",
    "    mlflow.log_param('cat_features', cat_features)\n",
    "    \n",
    "    #Fitting model and predictor\n",
    "    model_pipe.fit(X_train, y_train)\n",
    "    predictor = model_pipe.predict(X_test)\n",
    "     \n",
    "\n",
    "    #Evaluation metrics\n",
    "    model_score = model_pipe.score(X_train, y_train)\n",
    "    accuracy_score = accuracy_score(y_test, predictor)\n",
    "    precision_score = precision_score(y_test, predictor, average='macro')\n",
    "    recall_score = recall_score(y_test, predictor, average='macro')\n",
    "    f1_score = f1_score(y_test, predictor, average='macro')\n",
    " \n",
    "       \n",
    "    #Metrics for MLflow\n",
    "    mlflow.log_metric('model_score', model_score)\n",
    "    mlflow.log_metric('accuracy_score', accuracy_score)\n",
    "    mlflow.log_metric('precision_score', precision_score)\n",
    "    mlflow.log_metric('recall_score', recall_score)\n",
    "    mlflow.log_metric('f1_score', f1_score)\n",
    " \n",
    "    \n",
    "    #Confusion Matrix\n",
    "    \n",
    "    #conf_matrix = confusion_matrix(y_test, predictor)\n",
    "    conf_matrix_chart = ConfusionMatrixDisplay.from_estimator(model_pipe, X_test, y_test)\n",
    "    conf_matrix_chart.figure_.savefig('Conf_Matrix.png') #save as png\n",
    "    \n",
    "    #Confusion Matrix MLflow artifact\n",
    "    mlflow.log_artifact('Conf_Matrix.png')\n",
    "    \n",
    "    #Roc-auc curve chart\n",
    "    roc = RocCurveDisplay.from_estimator(model_pipe, X_test, y_test)\n",
    "    roc.figure_.savefig('ROC-Curve.png') #save chart as png\n",
    "    \n",
    "    #Roc-auc curve MLflow artifact\n",
    "    mlflow.log_artifact(\"ROC-Curve.png\")\n",
    "    \n",
    "    #Precision Recall chart\n",
    "    precision_recall = PrecisionRecallDisplay.from_estimator(model_pipe, X_test, y_test, name=\"Precision\")\n",
    "    precision_recall.figure_.savefig('Precision-Recall.png') #save chart as png\n",
    "        \n",
    "    #Precision Recall MLflow artifact\n",
    "    mlflow.log_artifact(\"Precision-Recall.png\")\n",
    "    \n",
    "    #Logging model to MLFlow\n",
    "    mlflow.sklearn.log_model(model_pipe, 'model')"
   ]
  }
 ],
 "metadata": {
  "kernelspec": {
   "display_name": "Python 3 (ipykernel)",
   "language": "python",
   "name": "python3"
  },
  "language_info": {
   "codemirror_mode": {
    "name": "ipython",
    "version": 3
   },
   "file_extension": ".py",
   "mimetype": "text/x-python",
   "name": "python",
   "nbconvert_exporter": "python",
   "pygments_lexer": "ipython3",
   "version": "3.10.14"
  }
 },
 "nbformat": 4,
 "nbformat_minor": 5
}
